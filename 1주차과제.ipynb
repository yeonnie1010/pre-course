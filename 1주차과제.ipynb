{
  "nbformat": 4,
  "nbformat_minor": 0,
  "metadata": {
    "colab": {
      "name": "1주차과제.ipynb",
      "provenance": [],
      "authorship_tag": "ABX9TyMXWt5Q6OBE026k6QBR5OZt",
      "include_colab_link": true
    },
    "kernelspec": {
      "name": "python3",
      "display_name": "Python 3"
    }
  },
  "cells": [
    {
      "cell_type": "markdown",
      "metadata": {
        "id": "view-in-github",
        "colab_type": "text"
      },
      "source": [
        "<a href=\"https://colab.research.google.com/github/yeonnie1010/tttest/blob/master/1%EC%A3%BC%EC%B0%A8%EA%B3%BC%EC%A0%9C.ipynb\" target=\"_parent\"><img src=\"https://colab.research.google.com/assets/colab-badge.svg\" alt=\"Open In Colab\"/></a>"
      ]
    },
    {
      "cell_type": "markdown",
      "metadata": {
        "id": "KYy9HkxTmV13",
        "colab_type": "text"
      },
      "source": [
        "# 1주차 과제\n",
        "## 인공지능이 적용된 사례 분석\n"
      ]
    },
    {
      "cell_type": "markdown",
      "metadata": {
        "id": "HClm8GjCmXG2",
        "colab_type": "text"
      },
      "source": [
        "### 1. 언어 분야\n",
        "#### 언어장애 치료를 돕는 애플리케이션 **토키토키**\n",
        "네오폰스는 2019년 대구 메디 스타트업 프로그램에 선정되어 음성 인식 인공지능이 탑재된 **재활 훈련 프로그램 앱 '토키토키'**를 개발하였다.\n",
        "이 앱은 인공지능을 이용한 자율 언어 재활 훈련, 환자와 언어치료사를 온라인으로 연결하는 O2O 서비스, 그리고 어디서든 언어치료를 받을 수 있는 언택트(Untact) 치료 서비스가 특징이다.\n",
        "\n",
        "출처 : [김주오, 『인공지능 탑재 언택트 언어치료 어플 출시』, 대구신문, 2020-06-02](https://www.idaegu.co.kr/news/articleView.html?idxno=313191)\n",
        "\n",
        "\n"
      ]
    },
    {
      "cell_type": "markdown",
      "metadata": {
        "id": "lFMDubOxneAa",
        "colab_type": "text"
      },
      "source": [
        "### 2. 음성 분야\n",
        "애플의 시리나 삼성의 빅스비 등이 휴대폰에 탑재된 대표적인 인공지능을 활용한 서비스이다.\n",
        "\n",
        "이외에도, LG 로봇청소기 R9 Voice와 같이 음성인식 기능이 탑재된 청소기 제품도 있고, AI 블루투스 스피커도 음성인식 기능이 존재하여 목소리만으로도 제품의 서비스를 이용할 수 있다.\n"
      ]
    },
    {
      "cell_type": "markdown",
      "metadata": {
        "id": "wB2iPrapnksI",
        "colab_type": "text"
      },
      "source": [
        "### 3. 이미지 분야\n",
        "#### 렌즈를 통해 피사체를 인식, 분석해주는 **AI 카메라**\n",
        "\n",
        "사진을 '음식', '동물' 등으로 자동 분류해주는 **구글 포토**, 카메라를 비추면 어떤 사물인지 알려주는 **구글 렌즈**등이 실생활에서 사용되는 AI 이미지 분야이다.\n",
        "\n",
        "출처 : [LG 네이버 포스트](https://post.naver.com/viewer/postView.nhn?volumeNo=17875379&memberNo=39046504&vType=VERTICAL)\n",
        "\n",
        "병원에서는 사람의 육안으로 식별하기 힘든 병을 AI 이미지 인식 기능으로 찾아내기도 하고, 제조 공장 같은 경우 불량 여부를 판별할 때 사용되기도 한다."
      ]
    },
    {
      "cell_type": "markdown",
      "metadata": {
        "id": "H2a143xDnn4O",
        "colab_type": "text"
      },
      "source": [
        "### 4. 자율주행 분야\n",
        "#### 자율주행 기능이 탑재된 **중국의 고속열차**\n",
        "베이징과 허베이성 장자커우를 잇는 구간에 배치된 중국의 스마트 고속 열차는 자율 주행과 인공지능 기술이 결합되었다. 정거장 출발, 운행, 정차 등이 자율 주행 기능으로 이루어지며 기관사는 함께 탑승하여 감독관 역할을 수행한다.\n",
        "\n",
        "출처 : [전다운, 『중국, 고속열차도 자율주행...AI까지 탑재한 '스마트 열차' 시대』, 테크플러스, 2019-03-18](https://blog.naver.com/tech-plus/221491126753)"
      ]
    }
  ]
}